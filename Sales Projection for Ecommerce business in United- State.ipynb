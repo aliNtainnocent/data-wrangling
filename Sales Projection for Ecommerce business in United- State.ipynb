{
 "cells": [
  {
   "cell_type": "code",
   "execution_count": 1,
   "id": "cfadd848",
   "metadata": {},
   "outputs": [],
   "source": [
    "import pandas as pd\n",
    "import numpy as np\n",
    "from datetime import datetime as dt\n",
    "import matplotlib.pyplot as plt\n",
    "plt.style.use(\"ggplot\")\n",
    "from scipy.stats import f_oneway, ttest_ind, chi2_contingency"
   ]
  },
  {
   "cell_type": "code",
   "execution_count": 2,
   "id": "fa598ee9",
   "metadata": {},
   "outputs": [],
   "source": [
    "sales_data = pd.read_csv(\"/Users/innocentnnamdialinta/Documents/newcsv/combined.csv\")"
   ]
  },
  {
   "cell_type": "code",
   "execution_count": 3,
   "id": "3f77a2b9",
   "metadata": {},
   "outputs": [
    {
     "data": {
      "text/html": [
       "<div>\n",
       "<style scoped>\n",
       "    .dataframe tbody tr th:only-of-type {\n",
       "        vertical-align: middle;\n",
       "    }\n",
       "\n",
       "    .dataframe tbody tr th {\n",
       "        vertical-align: top;\n",
       "    }\n",
       "\n",
       "    .dataframe thead th {\n",
       "        text-align: right;\n",
       "    }\n",
       "</style>\n",
       "<table border=\"1\" class=\"dataframe\">\n",
       "  <thead>\n",
       "    <tr style=\"text-align: right;\">\n",
       "      <th></th>\n",
       "      <th>Order ID</th>\n",
       "      <th>Product</th>\n",
       "      <th>Quantity Ordered</th>\n",
       "      <th>Price Each</th>\n",
       "      <th>Order Date</th>\n",
       "      <th>Purchase Address</th>\n",
       "    </tr>\n",
       "  </thead>\n",
       "  <tbody>\n",
       "    <tr>\n",
       "      <th>0</th>\n",
       "      <td>176558</td>\n",
       "      <td>USB-C Charging Cable</td>\n",
       "      <td>2</td>\n",
       "      <td>11.95</td>\n",
       "      <td>04/19/19 08:46</td>\n",
       "      <td>917 1st St, Dallas, TX 75001</td>\n",
       "    </tr>\n",
       "    <tr>\n",
       "      <th>1</th>\n",
       "      <td>NaN</td>\n",
       "      <td>NaN</td>\n",
       "      <td>NaN</td>\n",
       "      <td>NaN</td>\n",
       "      <td>NaN</td>\n",
       "      <td>NaN</td>\n",
       "    </tr>\n",
       "    <tr>\n",
       "      <th>2</th>\n",
       "      <td>176559</td>\n",
       "      <td>Bose SoundSport Headphones</td>\n",
       "      <td>1</td>\n",
       "      <td>99.99</td>\n",
       "      <td>04/07/19 22:30</td>\n",
       "      <td>682 Chestnut St, Boston, MA 02215</td>\n",
       "    </tr>\n",
       "    <tr>\n",
       "      <th>3</th>\n",
       "      <td>176560</td>\n",
       "      <td>Google Phone</td>\n",
       "      <td>1</td>\n",
       "      <td>600</td>\n",
       "      <td>04/12/19 14:38</td>\n",
       "      <td>669 Spruce St, Los Angeles, CA 90001</td>\n",
       "    </tr>\n",
       "    <tr>\n",
       "      <th>4</th>\n",
       "      <td>176560</td>\n",
       "      <td>Wired Headphones</td>\n",
       "      <td>1</td>\n",
       "      <td>11.99</td>\n",
       "      <td>04/12/19 14:38</td>\n",
       "      <td>669 Spruce St, Los Angeles, CA 90001</td>\n",
       "    </tr>\n",
       "  </tbody>\n",
       "</table>\n",
       "</div>"
      ],
      "text/plain": [
       "  Order ID                     Product Quantity Ordered Price Each  \\\n",
       "0   176558        USB-C Charging Cable                2      11.95   \n",
       "1      NaN                         NaN              NaN        NaN   \n",
       "2   176559  Bose SoundSport Headphones                1      99.99   \n",
       "3   176560                Google Phone                1        600   \n",
       "4   176560            Wired Headphones                1      11.99   \n",
       "\n",
       "       Order Date                      Purchase Address  \n",
       "0  04/19/19 08:46          917 1st St, Dallas, TX 75001  \n",
       "1             NaN                                   NaN  \n",
       "2  04/07/19 22:30     682 Chestnut St, Boston, MA 02215  \n",
       "3  04/12/19 14:38  669 Spruce St, Los Angeles, CA 90001  \n",
       "4  04/12/19 14:38  669 Spruce St, Los Angeles, CA 90001  "
      ]
     },
     "execution_count": 3,
     "metadata": {},
     "output_type": "execute_result"
    }
   ],
   "source": [
    "sales_data.head()"
   ]
  },
  {
   "cell_type": "code",
   "execution_count": 4,
   "id": "452cd2e6",
   "metadata": {},
   "outputs": [
    {
     "data": {
      "text/html": [
       "<div>\n",
       "<style scoped>\n",
       "    .dataframe tbody tr th:only-of-type {\n",
       "        vertical-align: middle;\n",
       "    }\n",
       "\n",
       "    .dataframe tbody tr th {\n",
       "        vertical-align: top;\n",
       "    }\n",
       "\n",
       "    .dataframe thead th {\n",
       "        text-align: right;\n",
       "    }\n",
       "</style>\n",
       "<table border=\"1\" class=\"dataframe\">\n",
       "  <thead>\n",
       "    <tr style=\"text-align: right;\">\n",
       "      <th></th>\n",
       "      <th>Order ID</th>\n",
       "      <th>Product</th>\n",
       "      <th>Quantity Ordered</th>\n",
       "      <th>Price Each</th>\n",
       "      <th>Order Date</th>\n",
       "      <th>Purchase Address</th>\n",
       "    </tr>\n",
       "  </thead>\n",
       "  <tbody>\n",
       "    <tr>\n",
       "      <th>186856</th>\n",
       "      <td>259353</td>\n",
       "      <td>AAA Batteries (4-pack)</td>\n",
       "      <td>3</td>\n",
       "      <td>2.99</td>\n",
       "      <td>09/17/19 20:56</td>\n",
       "      <td>840 Highland St, Los Angeles, CA 90001</td>\n",
       "    </tr>\n",
       "    <tr>\n",
       "      <th>186857</th>\n",
       "      <td>259354</td>\n",
       "      <td>iPhone</td>\n",
       "      <td>1</td>\n",
       "      <td>700</td>\n",
       "      <td>09/01/19 16:00</td>\n",
       "      <td>216 Dogwood St, San Francisco, CA 94016</td>\n",
       "    </tr>\n",
       "    <tr>\n",
       "      <th>186858</th>\n",
       "      <td>259355</td>\n",
       "      <td>iPhone</td>\n",
       "      <td>1</td>\n",
       "      <td>700</td>\n",
       "      <td>09/23/19 07:39</td>\n",
       "      <td>220 12th St, San Francisco, CA 94016</td>\n",
       "    </tr>\n",
       "    <tr>\n",
       "      <th>186859</th>\n",
       "      <td>259356</td>\n",
       "      <td>34in Ultrawide Monitor</td>\n",
       "      <td>1</td>\n",
       "      <td>379.99</td>\n",
       "      <td>09/19/19 17:30</td>\n",
       "      <td>511 Forest St, San Francisco, CA 94016</td>\n",
       "    </tr>\n",
       "    <tr>\n",
       "      <th>186860</th>\n",
       "      <td>259357</td>\n",
       "      <td>USB-C Charging Cable</td>\n",
       "      <td>1</td>\n",
       "      <td>11.95</td>\n",
       "      <td>09/30/19 00:18</td>\n",
       "      <td>250 Meadow St, San Francisco, CA 94016</td>\n",
       "    </tr>\n",
       "  </tbody>\n",
       "</table>\n",
       "</div>"
      ],
      "text/plain": [
       "       Order ID                 Product Quantity Ordered Price Each  \\\n",
       "186856   259353  AAA Batteries (4-pack)                3       2.99   \n",
       "186857   259354                  iPhone                1        700   \n",
       "186858   259355                  iPhone                1        700   \n",
       "186859   259356  34in Ultrawide Monitor                1     379.99   \n",
       "186860   259357    USB-C Charging Cable                1      11.95   \n",
       "\n",
       "            Order Date                         Purchase Address  \n",
       "186856  09/17/19 20:56   840 Highland St, Los Angeles, CA 90001  \n",
       "186857  09/01/19 16:00  216 Dogwood St, San Francisco, CA 94016  \n",
       "186858  09/23/19 07:39     220 12th St, San Francisco, CA 94016  \n",
       "186859  09/19/19 17:30   511 Forest St, San Francisco, CA 94016  \n",
       "186860  09/30/19 00:18   250 Meadow St, San Francisco, CA 94016  "
      ]
     },
     "execution_count": 4,
     "metadata": {},
     "output_type": "execute_result"
    }
   ],
   "source": [
    "sales_data.tail()"
   ]
  },
  {
   "cell_type": "code",
   "execution_count": 5,
   "id": "8ac16d54",
   "metadata": {},
   "outputs": [
    {
     "data": {
      "text/plain": [
       "Order ID            object\n",
       "Product             object\n",
       "Quantity Ordered    object\n",
       "Price Each          object\n",
       "Order Date          object\n",
       "Purchase Address    object\n",
       "dtype: object"
      ]
     },
     "execution_count": 5,
     "metadata": {},
     "output_type": "execute_result"
    }
   ],
   "source": [
    "sales_data.dtypes"
   ]
  },
  {
   "cell_type": "code",
   "execution_count": 6,
   "id": "c1952be8",
   "metadata": {},
   "outputs": [
    {
     "name": "stdout",
     "output_type": "stream",
     "text": [
      "<class 'pandas.core.frame.DataFrame'>\n",
      "RangeIndex: 186861 entries, 0 to 186860\n",
      "Data columns (total 6 columns):\n",
      " #   Column            Non-Null Count   Dtype \n",
      "---  ------            --------------   ----- \n",
      " 0   Order ID          186316 non-null  object\n",
      " 1   Product           186316 non-null  object\n",
      " 2   Quantity Ordered  186316 non-null  object\n",
      " 3   Price Each        186316 non-null  object\n",
      " 4   Order Date        186316 non-null  object\n",
      " 5   Purchase Address  186316 non-null  object\n",
      "dtypes: object(6)\n",
      "memory usage: 8.6+ MB\n"
     ]
    }
   ],
   "source": [
    "sales_data.info()"
   ]
  },
  {
   "cell_type": "code",
   "execution_count": 7,
   "id": "1bbd0735",
   "metadata": {},
   "outputs": [
    {
     "data": {
      "text/plain": [
       "Order ID            545\n",
       "Product             545\n",
       "Quantity Ordered    545\n",
       "Price Each          545\n",
       "Order Date          545\n",
       "Purchase Address    545\n",
       "dtype: int64"
      ]
     },
     "execution_count": 7,
     "metadata": {},
     "output_type": "execute_result"
    }
   ],
   "source": [
    "sales_data.isnull().sum()"
   ]
  },
  {
   "cell_type": "code",
   "execution_count": 8,
   "id": "ccd499a7",
   "metadata": {},
   "outputs": [
    {
     "data": {
      "text/plain": [
       "(186861, 6)"
      ]
     },
     "execution_count": 8,
     "metadata": {},
     "output_type": "execute_result"
    }
   ],
   "source": [
    "sales_data.shape"
   ]
  },
  {
   "cell_type": "code",
   "execution_count": 9,
   "id": "1771087e",
   "metadata": {},
   "outputs": [],
   "source": [
    "sales_data.dropna(inplace = True)"
   ]
  },
  {
   "cell_type": "code",
   "execution_count": 10,
   "id": "b49be180",
   "metadata": {},
   "outputs": [
    {
     "data": {
      "text/plain": [
       "Order ID            0\n",
       "Product             0\n",
       "Quantity Ordered    0\n",
       "Price Each          0\n",
       "Order Date          0\n",
       "Purchase Address    0\n",
       "dtype: int64"
      ]
     },
     "execution_count": 10,
     "metadata": {},
     "output_type": "execute_result"
    }
   ],
   "source": [
    "sales_data.isnull().sum()"
   ]
  },
  {
   "cell_type": "code",
   "execution_count": 11,
   "id": "dad16ee0",
   "metadata": {},
   "outputs": [
    {
     "data": {
      "text/html": [
       "<div>\n",
       "<style scoped>\n",
       "    .dataframe tbody tr th:only-of-type {\n",
       "        vertical-align: middle;\n",
       "    }\n",
       "\n",
       "    .dataframe tbody tr th {\n",
       "        vertical-align: top;\n",
       "    }\n",
       "\n",
       "    .dataframe thead th {\n",
       "        text-align: right;\n",
       "    }\n",
       "</style>\n",
       "<table border=\"1\" class=\"dataframe\">\n",
       "  <thead>\n",
       "    <tr style=\"text-align: right;\">\n",
       "      <th></th>\n",
       "      <th>Order ID</th>\n",
       "      <th>Product</th>\n",
       "      <th>Quantity Ordered</th>\n",
       "      <th>Price Each</th>\n",
       "      <th>Order Date</th>\n",
       "      <th>Purchase Address</th>\n",
       "    </tr>\n",
       "  </thead>\n",
       "  <tbody>\n",
       "    <tr>\n",
       "      <th>0</th>\n",
       "      <td>176558</td>\n",
       "      <td>USB-C Charging Cable</td>\n",
       "      <td>2</td>\n",
       "      <td>11.95</td>\n",
       "      <td>04/19/19 08:46</td>\n",
       "      <td>917 1st St, Dallas, TX 75001</td>\n",
       "    </tr>\n",
       "    <tr>\n",
       "      <th>2</th>\n",
       "      <td>176559</td>\n",
       "      <td>Bose SoundSport Headphones</td>\n",
       "      <td>1</td>\n",
       "      <td>99.99</td>\n",
       "      <td>04/07/19 22:30</td>\n",
       "      <td>682 Chestnut St, Boston, MA 02215</td>\n",
       "    </tr>\n",
       "    <tr>\n",
       "      <th>3</th>\n",
       "      <td>176560</td>\n",
       "      <td>Google Phone</td>\n",
       "      <td>1</td>\n",
       "      <td>600</td>\n",
       "      <td>04/12/19 14:38</td>\n",
       "      <td>669 Spruce St, Los Angeles, CA 90001</td>\n",
       "    </tr>\n",
       "    <tr>\n",
       "      <th>4</th>\n",
       "      <td>176560</td>\n",
       "      <td>Wired Headphones</td>\n",
       "      <td>1</td>\n",
       "      <td>11.99</td>\n",
       "      <td>04/12/19 14:38</td>\n",
       "      <td>669 Spruce St, Los Angeles, CA 90001</td>\n",
       "    </tr>\n",
       "    <tr>\n",
       "      <th>5</th>\n",
       "      <td>176561</td>\n",
       "      <td>Wired Headphones</td>\n",
       "      <td>1</td>\n",
       "      <td>11.99</td>\n",
       "      <td>04/30/19 09:27</td>\n",
       "      <td>333 8th St, Los Angeles, CA 90001</td>\n",
       "    </tr>\n",
       "  </tbody>\n",
       "</table>\n",
       "</div>"
      ],
      "text/plain": [
       "  Order ID                     Product Quantity Ordered Price Each  \\\n",
       "0   176558        USB-C Charging Cable                2      11.95   \n",
       "2   176559  Bose SoundSport Headphones                1      99.99   \n",
       "3   176560                Google Phone                1        600   \n",
       "4   176560            Wired Headphones                1      11.99   \n",
       "5   176561            Wired Headphones                1      11.99   \n",
       "\n",
       "       Order Date                      Purchase Address  \n",
       "0  04/19/19 08:46          917 1st St, Dallas, TX 75001  \n",
       "2  04/07/19 22:30     682 Chestnut St, Boston, MA 02215  \n",
       "3  04/12/19 14:38  669 Spruce St, Los Angeles, CA 90001  \n",
       "4  04/12/19 14:38  669 Spruce St, Los Angeles, CA 90001  \n",
       "5  04/30/19 09:27     333 8th St, Los Angeles, CA 90001  "
      ]
     },
     "execution_count": 11,
     "metadata": {},
     "output_type": "execute_result"
    }
   ],
   "source": [
    "sales_data.head()"
   ]
  },
  {
   "cell_type": "code",
   "execution_count": 12,
   "id": "84824eb2",
   "metadata": {},
   "outputs": [
    {
     "data": {
      "text/plain": [
       "Index(['Order ID', 'Product', 'Quantity Ordered', 'Price Each', 'Order Date',\n",
       "       'Purchase Address'],\n",
       "      dtype='object')"
      ]
     },
     "execution_count": 12,
     "metadata": {},
     "output_type": "execute_result"
    }
   ],
   "source": [
    "sales_data.columns"
   ]
  },
  {
   "cell_type": "code",
   "execution_count": 13,
   "id": "f33445c3",
   "metadata": {},
   "outputs": [],
   "source": [
    "sales_data[\"Order Date\"] = pd.to_datetime(sales_data[\"Order Date\"], errors = \"coerce\")"
   ]
  },
  {
   "cell_type": "code",
   "execution_count": 14,
   "id": "812ba9c6",
   "metadata": {},
   "outputs": [
    {
     "data": {
      "text/plain": [
       "0        2019-04-19 08:46:00\n",
       "2        2019-04-07 22:30:00\n",
       "3        2019-04-12 14:38:00\n",
       "4        2019-04-12 14:38:00\n",
       "5        2019-04-30 09:27:00\n",
       "                 ...        \n",
       "186856   2019-09-17 20:56:00\n",
       "186857   2019-09-01 16:00:00\n",
       "186858   2019-09-23 07:39:00\n",
       "186859   2019-09-19 17:30:00\n",
       "186860   2019-09-30 00:18:00\n",
       "Name: Order Date, Length: 186316, dtype: datetime64[ns]"
      ]
     },
     "execution_count": 14,
     "metadata": {},
     "output_type": "execute_result"
    }
   ],
   "source": [
    "sales_data[\"Order Date\"]"
   ]
  },
  {
   "cell_type": "code",
   "execution_count": 15,
   "id": "923346fa",
   "metadata": {},
   "outputs": [],
   "source": [
    "idx = sales_data[sales_data[\"Order Date\"].isnull()].index"
   ]
  },
  {
   "cell_type": "code",
   "execution_count": 16,
   "id": "584faf8f",
   "metadata": {},
   "outputs": [
    {
     "data": {
      "text/plain": [
       "Int64Index([   519,   1149,   1155,   2878,   2893,   3036,   3209,   3618,\n",
       "              4138,   4645,\n",
       "            ...\n",
       "            183819, 184500, 184677, 184790, 185129, 185175, 185562, 186574,\n",
       "            186643, 186749],\n",
       "           dtype='int64', length=366)"
      ]
     },
     "execution_count": 16,
     "metadata": {},
     "output_type": "execute_result"
    }
   ],
   "source": [
    "idx"
   ]
  },
  {
   "cell_type": "code",
   "execution_count": 17,
   "id": "a755145b",
   "metadata": {},
   "outputs": [
    {
     "data": {
      "text/plain": [
       "Order ID              0\n",
       "Product               0\n",
       "Quantity Ordered      0\n",
       "Price Each            0\n",
       "Order Date          366\n",
       "Purchase Address      0\n",
       "dtype: int64"
      ]
     },
     "execution_count": 17,
     "metadata": {},
     "output_type": "execute_result"
    }
   ],
   "source": [
    "sales_data.isnull().sum()"
   ]
  },
  {
   "cell_type": "code",
   "execution_count": 18,
   "id": "4a844eca",
   "metadata": {},
   "outputs": [
    {
     "data": {
      "text/plain": [
       "366"
      ]
     },
     "execution_count": 18,
     "metadata": {},
     "output_type": "execute_result"
    }
   ],
   "source": [
    "sales_data[\"Order Date\"].isnull().sum()"
   ]
  },
  {
   "cell_type": "code",
   "execution_count": 19,
   "id": "1aeb9795",
   "metadata": {},
   "outputs": [],
   "source": [
    "sales_data.dropna(subset = [\"Order Date\"], how = \"any\", inplace = True)"
   ]
  },
  {
   "cell_type": "code",
   "execution_count": 20,
   "id": "426ce216",
   "metadata": {},
   "outputs": [
    {
     "data": {
      "text/plain": [
       "0        2019-04-19 08:46:00\n",
       "2        2019-04-07 22:30:00\n",
       "3        2019-04-12 14:38:00\n",
       "4        2019-04-12 14:38:00\n",
       "5        2019-04-30 09:27:00\n",
       "                 ...        \n",
       "186856   2019-09-17 20:56:00\n",
       "186857   2019-09-01 16:00:00\n",
       "186858   2019-09-23 07:39:00\n",
       "186859   2019-09-19 17:30:00\n",
       "186860   2019-09-30 00:18:00\n",
       "Name: Order Date, Length: 185950, dtype: datetime64[ns]"
      ]
     },
     "execution_count": 20,
     "metadata": {},
     "output_type": "execute_result"
    }
   ],
   "source": [
    "sales_data[\"Order Date\"]"
   ]
  },
  {
   "cell_type": "code",
   "execution_count": 21,
   "id": "a1733908",
   "metadata": {},
   "outputs": [],
   "source": [
    "sales_data[\"Month\"] = sales_data[\"Order Date\"]"
   ]
  },
  {
   "cell_type": "code",
   "execution_count": 22,
   "id": "2919edcc",
   "metadata": {},
   "outputs": [
    {
     "data": {
      "text/html": [
       "<div>\n",
       "<style scoped>\n",
       "    .dataframe tbody tr th:only-of-type {\n",
       "        vertical-align: middle;\n",
       "    }\n",
       "\n",
       "    .dataframe tbody tr th {\n",
       "        vertical-align: top;\n",
       "    }\n",
       "\n",
       "    .dataframe thead th {\n",
       "        text-align: right;\n",
       "    }\n",
       "</style>\n",
       "<table border=\"1\" class=\"dataframe\">\n",
       "  <thead>\n",
       "    <tr style=\"text-align: right;\">\n",
       "      <th></th>\n",
       "      <th>Order ID</th>\n",
       "      <th>Product</th>\n",
       "      <th>Quantity Ordered</th>\n",
       "      <th>Price Each</th>\n",
       "      <th>Order Date</th>\n",
       "      <th>Purchase Address</th>\n",
       "      <th>Month</th>\n",
       "    </tr>\n",
       "  </thead>\n",
       "  <tbody>\n",
       "    <tr>\n",
       "      <th>0</th>\n",
       "      <td>176558</td>\n",
       "      <td>USB-C Charging Cable</td>\n",
       "      <td>2</td>\n",
       "      <td>11.95</td>\n",
       "      <td>2019-04-19 08:46:00</td>\n",
       "      <td>917 1st St, Dallas, TX 75001</td>\n",
       "      <td>2019-04-19 08:46:00</td>\n",
       "    </tr>\n",
       "    <tr>\n",
       "      <th>2</th>\n",
       "      <td>176559</td>\n",
       "      <td>Bose SoundSport Headphones</td>\n",
       "      <td>1</td>\n",
       "      <td>99.99</td>\n",
       "      <td>2019-04-07 22:30:00</td>\n",
       "      <td>682 Chestnut St, Boston, MA 02215</td>\n",
       "      <td>2019-04-07 22:30:00</td>\n",
       "    </tr>\n",
       "    <tr>\n",
       "      <th>3</th>\n",
       "      <td>176560</td>\n",
       "      <td>Google Phone</td>\n",
       "      <td>1</td>\n",
       "      <td>600</td>\n",
       "      <td>2019-04-12 14:38:00</td>\n",
       "      <td>669 Spruce St, Los Angeles, CA 90001</td>\n",
       "      <td>2019-04-12 14:38:00</td>\n",
       "    </tr>\n",
       "    <tr>\n",
       "      <th>4</th>\n",
       "      <td>176560</td>\n",
       "      <td>Wired Headphones</td>\n",
       "      <td>1</td>\n",
       "      <td>11.99</td>\n",
       "      <td>2019-04-12 14:38:00</td>\n",
       "      <td>669 Spruce St, Los Angeles, CA 90001</td>\n",
       "      <td>2019-04-12 14:38:00</td>\n",
       "    </tr>\n",
       "    <tr>\n",
       "      <th>5</th>\n",
       "      <td>176561</td>\n",
       "      <td>Wired Headphones</td>\n",
       "      <td>1</td>\n",
       "      <td>11.99</td>\n",
       "      <td>2019-04-30 09:27:00</td>\n",
       "      <td>333 8th St, Los Angeles, CA 90001</td>\n",
       "      <td>2019-04-30 09:27:00</td>\n",
       "    </tr>\n",
       "  </tbody>\n",
       "</table>\n",
       "</div>"
      ],
      "text/plain": [
       "  Order ID                     Product Quantity Ordered Price Each  \\\n",
       "0   176558        USB-C Charging Cable                2      11.95   \n",
       "2   176559  Bose SoundSport Headphones                1      99.99   \n",
       "3   176560                Google Phone                1        600   \n",
       "4   176560            Wired Headphones                1      11.99   \n",
       "5   176561            Wired Headphones                1      11.99   \n",
       "\n",
       "           Order Date                      Purchase Address  \\\n",
       "0 2019-04-19 08:46:00          917 1st St, Dallas, TX 75001   \n",
       "2 2019-04-07 22:30:00     682 Chestnut St, Boston, MA 02215   \n",
       "3 2019-04-12 14:38:00  669 Spruce St, Los Angeles, CA 90001   \n",
       "4 2019-04-12 14:38:00  669 Spruce St, Los Angeles, CA 90001   \n",
       "5 2019-04-30 09:27:00     333 8th St, Los Angeles, CA 90001   \n",
       "\n",
       "                Month  \n",
       "0 2019-04-19 08:46:00  \n",
       "2 2019-04-07 22:30:00  \n",
       "3 2019-04-12 14:38:00  \n",
       "4 2019-04-12 14:38:00  \n",
       "5 2019-04-30 09:27:00  "
      ]
     },
     "execution_count": 22,
     "metadata": {},
     "output_type": "execute_result"
    }
   ],
   "source": [
    "sales_data.head()"
   ]
  },
  {
   "cell_type": "code",
   "execution_count": 23,
   "id": "3a80e193",
   "metadata": {},
   "outputs": [],
   "source": [
    "sales_data[\"Month\"] = sales_data[\"Month\"].apply(lambda a : a.strftime(\"%b\"))"
   ]
  },
  {
   "cell_type": "code",
   "execution_count": 24,
   "id": "2e57b1ff",
   "metadata": {},
   "outputs": [
    {
     "data": {
      "text/html": [
       "<div>\n",
       "<style scoped>\n",
       "    .dataframe tbody tr th:only-of-type {\n",
       "        vertical-align: middle;\n",
       "    }\n",
       "\n",
       "    .dataframe tbody tr th {\n",
       "        vertical-align: top;\n",
       "    }\n",
       "\n",
       "    .dataframe thead th {\n",
       "        text-align: right;\n",
       "    }\n",
       "</style>\n",
       "<table border=\"1\" class=\"dataframe\">\n",
       "  <thead>\n",
       "    <tr style=\"text-align: right;\">\n",
       "      <th></th>\n",
       "      <th>Order ID</th>\n",
       "      <th>Product</th>\n",
       "      <th>Quantity Ordered</th>\n",
       "      <th>Price Each</th>\n",
       "      <th>Order Date</th>\n",
       "      <th>Purchase Address</th>\n",
       "      <th>Month</th>\n",
       "    </tr>\n",
       "  </thead>\n",
       "  <tbody>\n",
       "    <tr>\n",
       "      <th>0</th>\n",
       "      <td>176558</td>\n",
       "      <td>USB-C Charging Cable</td>\n",
       "      <td>2</td>\n",
       "      <td>11.95</td>\n",
       "      <td>2019-04-19 08:46:00</td>\n",
       "      <td>917 1st St, Dallas, TX 75001</td>\n",
       "      <td>Apr</td>\n",
       "    </tr>\n",
       "    <tr>\n",
       "      <th>2</th>\n",
       "      <td>176559</td>\n",
       "      <td>Bose SoundSport Headphones</td>\n",
       "      <td>1</td>\n",
       "      <td>99.99</td>\n",
       "      <td>2019-04-07 22:30:00</td>\n",
       "      <td>682 Chestnut St, Boston, MA 02215</td>\n",
       "      <td>Apr</td>\n",
       "    </tr>\n",
       "    <tr>\n",
       "      <th>3</th>\n",
       "      <td>176560</td>\n",
       "      <td>Google Phone</td>\n",
       "      <td>1</td>\n",
       "      <td>600</td>\n",
       "      <td>2019-04-12 14:38:00</td>\n",
       "      <td>669 Spruce St, Los Angeles, CA 90001</td>\n",
       "      <td>Apr</td>\n",
       "    </tr>\n",
       "    <tr>\n",
       "      <th>4</th>\n",
       "      <td>176560</td>\n",
       "      <td>Wired Headphones</td>\n",
       "      <td>1</td>\n",
       "      <td>11.99</td>\n",
       "      <td>2019-04-12 14:38:00</td>\n",
       "      <td>669 Spruce St, Los Angeles, CA 90001</td>\n",
       "      <td>Apr</td>\n",
       "    </tr>\n",
       "    <tr>\n",
       "      <th>5</th>\n",
       "      <td>176561</td>\n",
       "      <td>Wired Headphones</td>\n",
       "      <td>1</td>\n",
       "      <td>11.99</td>\n",
       "      <td>2019-04-30 09:27:00</td>\n",
       "      <td>333 8th St, Los Angeles, CA 90001</td>\n",
       "      <td>Apr</td>\n",
       "    </tr>\n",
       "  </tbody>\n",
       "</table>\n",
       "</div>"
      ],
      "text/plain": [
       "  Order ID                     Product Quantity Ordered Price Each  \\\n",
       "0   176558        USB-C Charging Cable                2      11.95   \n",
       "2   176559  Bose SoundSport Headphones                1      99.99   \n",
       "3   176560                Google Phone                1        600   \n",
       "4   176560            Wired Headphones                1      11.99   \n",
       "5   176561            Wired Headphones                1      11.99   \n",
       "\n",
       "           Order Date                      Purchase Address Month  \n",
       "0 2019-04-19 08:46:00          917 1st St, Dallas, TX 75001   Apr  \n",
       "2 2019-04-07 22:30:00     682 Chestnut St, Boston, MA 02215   Apr  \n",
       "3 2019-04-12 14:38:00  669 Spruce St, Los Angeles, CA 90001   Apr  \n",
       "4 2019-04-12 14:38:00  669 Spruce St, Los Angeles, CA 90001   Apr  \n",
       "5 2019-04-30 09:27:00     333 8th St, Los Angeles, CA 90001   Apr  "
      ]
     },
     "execution_count": 24,
     "metadata": {},
     "output_type": "execute_result"
    }
   ],
   "source": [
    "sales_data.head()"
   ]
  },
  {
   "cell_type": "code",
   "execution_count": 25,
   "id": "61175f88",
   "metadata": {},
   "outputs": [
    {
     "data": {
      "text/plain": [
       "Order ID                    object\n",
       "Product                     object\n",
       "Quantity Ordered            object\n",
       "Price Each                  object\n",
       "Order Date          datetime64[ns]\n",
       "Purchase Address            object\n",
       "Month                       object\n",
       "dtype: object"
      ]
     },
     "execution_count": 25,
     "metadata": {},
     "output_type": "execute_result"
    }
   ],
   "source": [
    "sales_data.dtypes"
   ]
  },
  {
   "cell_type": "code",
   "execution_count": 26,
   "id": "e9d545a0",
   "metadata": {},
   "outputs": [],
   "source": [
    "sales_data[\"Quantity Ordered\"] = pd.to_numeric(sales_data[\"Quantity Ordered\"])"
   ]
  },
  {
   "cell_type": "code",
   "execution_count": 27,
   "id": "6d29002e",
   "metadata": {},
   "outputs": [],
   "source": [
    "sales_data[\"Price Each\"] = pd.to_numeric(sales_data[\"Price Each\"])                                         "
   ]
  },
  {
   "cell_type": "code",
   "execution_count": 28,
   "id": "7ed13570",
   "metadata": {},
   "outputs": [
    {
     "data": {
      "text/html": [
       "<div>\n",
       "<style scoped>\n",
       "    .dataframe tbody tr th:only-of-type {\n",
       "        vertical-align: middle;\n",
       "    }\n",
       "\n",
       "    .dataframe tbody tr th {\n",
       "        vertical-align: top;\n",
       "    }\n",
       "\n",
       "    .dataframe thead th {\n",
       "        text-align: right;\n",
       "    }\n",
       "</style>\n",
       "<table border=\"1\" class=\"dataframe\">\n",
       "  <thead>\n",
       "    <tr style=\"text-align: right;\">\n",
       "      <th></th>\n",
       "      <th>Order ID</th>\n",
       "      <th>Product</th>\n",
       "      <th>Quantity Ordered</th>\n",
       "      <th>Price Each</th>\n",
       "      <th>Order Date</th>\n",
       "      <th>Purchase Address</th>\n",
       "      <th>Month</th>\n",
       "    </tr>\n",
       "  </thead>\n",
       "  <tbody>\n",
       "    <tr>\n",
       "      <th>0</th>\n",
       "      <td>176558</td>\n",
       "      <td>USB-C Charging Cable</td>\n",
       "      <td>2</td>\n",
       "      <td>11.95</td>\n",
       "      <td>2019-04-19 08:46:00</td>\n",
       "      <td>917 1st St, Dallas, TX 75001</td>\n",
       "      <td>Apr</td>\n",
       "    </tr>\n",
       "    <tr>\n",
       "      <th>2</th>\n",
       "      <td>176559</td>\n",
       "      <td>Bose SoundSport Headphones</td>\n",
       "      <td>1</td>\n",
       "      <td>99.99</td>\n",
       "      <td>2019-04-07 22:30:00</td>\n",
       "      <td>682 Chestnut St, Boston, MA 02215</td>\n",
       "      <td>Apr</td>\n",
       "    </tr>\n",
       "    <tr>\n",
       "      <th>3</th>\n",
       "      <td>176560</td>\n",
       "      <td>Google Phone</td>\n",
       "      <td>1</td>\n",
       "      <td>600.00</td>\n",
       "      <td>2019-04-12 14:38:00</td>\n",
       "      <td>669 Spruce St, Los Angeles, CA 90001</td>\n",
       "      <td>Apr</td>\n",
       "    </tr>\n",
       "    <tr>\n",
       "      <th>4</th>\n",
       "      <td>176560</td>\n",
       "      <td>Wired Headphones</td>\n",
       "      <td>1</td>\n",
       "      <td>11.99</td>\n",
       "      <td>2019-04-12 14:38:00</td>\n",
       "      <td>669 Spruce St, Los Angeles, CA 90001</td>\n",
       "      <td>Apr</td>\n",
       "    </tr>\n",
       "    <tr>\n",
       "      <th>5</th>\n",
       "      <td>176561</td>\n",
       "      <td>Wired Headphones</td>\n",
       "      <td>1</td>\n",
       "      <td>11.99</td>\n",
       "      <td>2019-04-30 09:27:00</td>\n",
       "      <td>333 8th St, Los Angeles, CA 90001</td>\n",
       "      <td>Apr</td>\n",
       "    </tr>\n",
       "  </tbody>\n",
       "</table>\n",
       "</div>"
      ],
      "text/plain": [
       "  Order ID                     Product  Quantity Ordered  Price Each  \\\n",
       "0   176558        USB-C Charging Cable                 2       11.95   \n",
       "2   176559  Bose SoundSport Headphones                 1       99.99   \n",
       "3   176560                Google Phone                 1      600.00   \n",
       "4   176560            Wired Headphones                 1       11.99   \n",
       "5   176561            Wired Headphones                 1       11.99   \n",
       "\n",
       "           Order Date                      Purchase Address Month  \n",
       "0 2019-04-19 08:46:00          917 1st St, Dallas, TX 75001   Apr  \n",
       "2 2019-04-07 22:30:00     682 Chestnut St, Boston, MA 02215   Apr  \n",
       "3 2019-04-12 14:38:00  669 Spruce St, Los Angeles, CA 90001   Apr  \n",
       "4 2019-04-12 14:38:00  669 Spruce St, Los Angeles, CA 90001   Apr  \n",
       "5 2019-04-30 09:27:00     333 8th St, Los Angeles, CA 90001   Apr  "
      ]
     },
     "execution_count": 28,
     "metadata": {},
     "output_type": "execute_result"
    }
   ],
   "source": [
    "sales_data.head()                                                                                                                                                                                                                                                            "
   ]
  },
  {
   "cell_type": "code",
   "execution_count": 29,
   "id": "32eef533",
   "metadata": {},
   "outputs": [],
   "source": [
    "sales_data[\"Total Sales\"] = sales_data[\"Quantity Ordered\"] * sales_data[\"Price Each\"]"
   ]
  },
  {
   "cell_type": "code",
   "execution_count": 30,
   "id": "9048576c",
   "metadata": {},
   "outputs": [
    {
     "data": {
      "text/html": [
       "<div>\n",
       "<style scoped>\n",
       "    .dataframe tbody tr th:only-of-type {\n",
       "        vertical-align: middle;\n",
       "    }\n",
       "\n",
       "    .dataframe tbody tr th {\n",
       "        vertical-align: top;\n",
       "    }\n",
       "\n",
       "    .dataframe thead th {\n",
       "        text-align: right;\n",
       "    }\n",
       "</style>\n",
       "<table border=\"1\" class=\"dataframe\">\n",
       "  <thead>\n",
       "    <tr style=\"text-align: right;\">\n",
       "      <th></th>\n",
       "      <th>Order ID</th>\n",
       "      <th>Product</th>\n",
       "      <th>Quantity Ordered</th>\n",
       "      <th>Price Each</th>\n",
       "      <th>Order Date</th>\n",
       "      <th>Purchase Address</th>\n",
       "      <th>Month</th>\n",
       "      <th>Total Sales</th>\n",
       "    </tr>\n",
       "  </thead>\n",
       "  <tbody>\n",
       "    <tr>\n",
       "      <th>0</th>\n",
       "      <td>176558</td>\n",
       "      <td>USB-C Charging Cable</td>\n",
       "      <td>2</td>\n",
       "      <td>11.95</td>\n",
       "      <td>2019-04-19 08:46:00</td>\n",
       "      <td>917 1st St, Dallas, TX 75001</td>\n",
       "      <td>Apr</td>\n",
       "      <td>23.90</td>\n",
       "    </tr>\n",
       "    <tr>\n",
       "      <th>2</th>\n",
       "      <td>176559</td>\n",
       "      <td>Bose SoundSport Headphones</td>\n",
       "      <td>1</td>\n",
       "      <td>99.99</td>\n",
       "      <td>2019-04-07 22:30:00</td>\n",
       "      <td>682 Chestnut St, Boston, MA 02215</td>\n",
       "      <td>Apr</td>\n",
       "      <td>99.99</td>\n",
       "    </tr>\n",
       "    <tr>\n",
       "      <th>3</th>\n",
       "      <td>176560</td>\n",
       "      <td>Google Phone</td>\n",
       "      <td>1</td>\n",
       "      <td>600.00</td>\n",
       "      <td>2019-04-12 14:38:00</td>\n",
       "      <td>669 Spruce St, Los Angeles, CA 90001</td>\n",
       "      <td>Apr</td>\n",
       "      <td>600.00</td>\n",
       "    </tr>\n",
       "    <tr>\n",
       "      <th>4</th>\n",
       "      <td>176560</td>\n",
       "      <td>Wired Headphones</td>\n",
       "      <td>1</td>\n",
       "      <td>11.99</td>\n",
       "      <td>2019-04-12 14:38:00</td>\n",
       "      <td>669 Spruce St, Los Angeles, CA 90001</td>\n",
       "      <td>Apr</td>\n",
       "      <td>11.99</td>\n",
       "    </tr>\n",
       "    <tr>\n",
       "      <th>5</th>\n",
       "      <td>176561</td>\n",
       "      <td>Wired Headphones</td>\n",
       "      <td>1</td>\n",
       "      <td>11.99</td>\n",
       "      <td>2019-04-30 09:27:00</td>\n",
       "      <td>333 8th St, Los Angeles, CA 90001</td>\n",
       "      <td>Apr</td>\n",
       "      <td>11.99</td>\n",
       "    </tr>\n",
       "  </tbody>\n",
       "</table>\n",
       "</div>"
      ],
      "text/plain": [
       "  Order ID                     Product  Quantity Ordered  Price Each  \\\n",
       "0   176558        USB-C Charging Cable                 2       11.95   \n",
       "2   176559  Bose SoundSport Headphones                 1       99.99   \n",
       "3   176560                Google Phone                 1      600.00   \n",
       "4   176560            Wired Headphones                 1       11.99   \n",
       "5   176561            Wired Headphones                 1       11.99   \n",
       "\n",
       "           Order Date                      Purchase Address Month  Total Sales  \n",
       "0 2019-04-19 08:46:00          917 1st St, Dallas, TX 75001   Apr        23.90  \n",
       "2 2019-04-07 22:30:00     682 Chestnut St, Boston, MA 02215   Apr        99.99  \n",
       "3 2019-04-12 14:38:00  669 Spruce St, Los Angeles, CA 90001   Apr       600.00  \n",
       "4 2019-04-12 14:38:00  669 Spruce St, Los Angeles, CA 90001   Apr        11.99  \n",
       "5 2019-04-30 09:27:00     333 8th St, Los Angeles, CA 90001   Apr        11.99  "
      ]
     },
     "execution_count": 30,
     "metadata": {},
     "output_type": "execute_result"
    }
   ],
   "source": [
    "sales_data.head()"
   ]
  },
  {
   "cell_type": "markdown",
   "id": "9bc229b7",
   "metadata": {},
   "source": [
    "#### split to get the state from the purchase address"
   ]
  },
  {
   "cell_type": "code",
   "execution_count": 31,
   "id": "49503849",
   "metadata": {},
   "outputs": [
    {
     "ename": "NameError",
     "evalue": "name 'get_state' is not defined",
     "output_type": "error",
     "traceback": [
      "\u001b[0;31m---------------------------------------------------------------------------\u001b[0m",
      "\u001b[0;31mNameError\u001b[0m                                 Traceback (most recent call last)",
      "\u001b[0;32m/var/folders/d_/x44t10vx4tq60j3051q1gxf40000gn/T/ipykernel_2005/1005416465.py\u001b[0m in \u001b[0;36m<module>\u001b[0;34m\u001b[0m\n\u001b[1;32m      4\u001b[0m \u001b[0;32mdef\u001b[0m \u001b[0mstate\u001b[0m\u001b[0;34m(\u001b[0m\u001b[0maddress\u001b[0m\u001b[0;34m)\u001b[0m\u001b[0;34m:\u001b[0m\u001b[0;34m\u001b[0m\u001b[0;34m\u001b[0m\u001b[0m\n\u001b[1;32m      5\u001b[0m     \u001b[0;32mreturn\u001b[0m \u001b[0maddress\u001b[0m\u001b[0;34m.\u001b[0m\u001b[0msplit\u001b[0m\u001b[0;34m(\u001b[0m\u001b[0;34m\",\"\u001b[0m\u001b[0;34m)\u001b[0m\u001b[0;34m[\u001b[0m\u001b[0;36m2\u001b[0m\u001b[0;34m]\u001b[0m\u001b[0;34m.\u001b[0m\u001b[0msplit\u001b[0m\u001b[0;34m(\u001b[0m\u001b[0;34m\" \"\u001b[0m\u001b[0;34m)\u001b[0m\u001b[0;34m[\u001b[0m\u001b[0;36m1\u001b[0m\u001b[0;34m]\u001b[0m\u001b[0;34m\u001b[0m\u001b[0;34m\u001b[0m\u001b[0m\n\u001b[0;32m----> 6\u001b[0;31m \u001b[0msales_data\u001b[0m\u001b[0;34m[\u001b[0m\u001b[0;34m\"city\"\u001b[0m\u001b[0;34m]\u001b[0m \u001b[0;34m=\u001b[0m \u001b[0msales_data\u001b[0m\u001b[0;34m[\u001b[0m\u001b[0;34m\"Purchase Address\"\u001b[0m\u001b[0;34m]\u001b[0m\u001b[0;34m.\u001b[0m\u001b[0mapply\u001b[0m\u001b[0;34m(\u001b[0m\u001b[0;32mlambda\u001b[0m \u001b[0mx\u001b[0m\u001b[0;34m:\u001b[0m \u001b[0mcity\u001b[0m\u001b[0;34m(\u001b[0m\u001b[0mx\u001b[0m\u001b[0;34m)\u001b[0m \u001b[0;34m+\u001b[0m \u001b[0;34m\" \"\u001b[0m \u001b[0;34m+\u001b[0m \u001b[0mget_state\u001b[0m\u001b[0;34m(\u001b[0m\u001b[0mx\u001b[0m\u001b[0;34m)\u001b[0m\u001b[0;34m)\u001b[0m\u001b[0;34m\u001b[0m\u001b[0;34m\u001b[0m\u001b[0m\n\u001b[0m",
      "\u001b[0;32m/Library/Frameworks/Python.framework/Versions/3.9/lib/python3.9/site-packages/pandas/core/series.py\u001b[0m in \u001b[0;36mapply\u001b[0;34m(self, func, convert_dtype, args, **kwargs)\u001b[0m\n\u001b[1;32m   4355\u001b[0m         \u001b[0mdtype\u001b[0m\u001b[0;34m:\u001b[0m \u001b[0mfloat64\u001b[0m\u001b[0;34m\u001b[0m\u001b[0;34m\u001b[0m\u001b[0m\n\u001b[1;32m   4356\u001b[0m         \"\"\"\n\u001b[0;32m-> 4357\u001b[0;31m         \u001b[0;32mreturn\u001b[0m \u001b[0mSeriesApply\u001b[0m\u001b[0;34m(\u001b[0m\u001b[0mself\u001b[0m\u001b[0;34m,\u001b[0m \u001b[0mfunc\u001b[0m\u001b[0;34m,\u001b[0m \u001b[0mconvert_dtype\u001b[0m\u001b[0;34m,\u001b[0m \u001b[0margs\u001b[0m\u001b[0;34m,\u001b[0m \u001b[0mkwargs\u001b[0m\u001b[0;34m)\u001b[0m\u001b[0;34m.\u001b[0m\u001b[0mapply\u001b[0m\u001b[0;34m(\u001b[0m\u001b[0;34m)\u001b[0m\u001b[0;34m\u001b[0m\u001b[0;34m\u001b[0m\u001b[0m\n\u001b[0m\u001b[1;32m   4358\u001b[0m \u001b[0;34m\u001b[0m\u001b[0m\n\u001b[1;32m   4359\u001b[0m     def _reduce(\n",
      "\u001b[0;32m/Library/Frameworks/Python.framework/Versions/3.9/lib/python3.9/site-packages/pandas/core/apply.py\u001b[0m in \u001b[0;36mapply\u001b[0;34m(self)\u001b[0m\n\u001b[1;32m   1041\u001b[0m             \u001b[0;32mreturn\u001b[0m \u001b[0mself\u001b[0m\u001b[0;34m.\u001b[0m\u001b[0mapply_str\u001b[0m\u001b[0;34m(\u001b[0m\u001b[0;34m)\u001b[0m\u001b[0;34m\u001b[0m\u001b[0;34m\u001b[0m\u001b[0m\n\u001b[1;32m   1042\u001b[0m \u001b[0;34m\u001b[0m\u001b[0m\n\u001b[0;32m-> 1043\u001b[0;31m         \u001b[0;32mreturn\u001b[0m \u001b[0mself\u001b[0m\u001b[0;34m.\u001b[0m\u001b[0mapply_standard\u001b[0m\u001b[0;34m(\u001b[0m\u001b[0;34m)\u001b[0m\u001b[0;34m\u001b[0m\u001b[0;34m\u001b[0m\u001b[0m\n\u001b[0m\u001b[1;32m   1044\u001b[0m \u001b[0;34m\u001b[0m\u001b[0m\n\u001b[1;32m   1045\u001b[0m     \u001b[0;32mdef\u001b[0m \u001b[0magg\u001b[0m\u001b[0;34m(\u001b[0m\u001b[0mself\u001b[0m\u001b[0;34m)\u001b[0m\u001b[0;34m:\u001b[0m\u001b[0;34m\u001b[0m\u001b[0;34m\u001b[0m\u001b[0m\n",
      "\u001b[0;32m/Library/Frameworks/Python.framework/Versions/3.9/lib/python3.9/site-packages/pandas/core/apply.py\u001b[0m in \u001b[0;36mapply_standard\u001b[0;34m(self)\u001b[0m\n\u001b[1;32m   1097\u001b[0m                 \u001b[0;31m# List[Union[Callable[..., Any], str]]]]]\"; expected\u001b[0m\u001b[0;34m\u001b[0m\u001b[0;34m\u001b[0m\u001b[0;34m\u001b[0m\u001b[0m\n\u001b[1;32m   1098\u001b[0m                 \u001b[0;31m# \"Callable[[Any], Any]\"\u001b[0m\u001b[0;34m\u001b[0m\u001b[0;34m\u001b[0m\u001b[0;34m\u001b[0m\u001b[0m\n\u001b[0;32m-> 1099\u001b[0;31m                 mapped = lib.map_infer(\n\u001b[0m\u001b[1;32m   1100\u001b[0m                     \u001b[0mvalues\u001b[0m\u001b[0;34m,\u001b[0m\u001b[0;34m\u001b[0m\u001b[0;34m\u001b[0m\u001b[0m\n\u001b[1;32m   1101\u001b[0m                     \u001b[0mf\u001b[0m\u001b[0;34m,\u001b[0m  \u001b[0;31m# type: ignore[arg-type]\u001b[0m\u001b[0;34m\u001b[0m\u001b[0;34m\u001b[0m\u001b[0m\n",
      "\u001b[0;32m/Library/Frameworks/Python.framework/Versions/3.9/lib/python3.9/site-packages/pandas/_libs/lib.pyx\u001b[0m in \u001b[0;36mpandas._libs.lib.map_infer\u001b[0;34m()\u001b[0m\n",
      "\u001b[0;32m/var/folders/d_/x44t10vx4tq60j3051q1gxf40000gn/T/ipykernel_2005/1005416465.py\u001b[0m in \u001b[0;36m<lambda>\u001b[0;34m(x)\u001b[0m\n\u001b[1;32m      4\u001b[0m \u001b[0;32mdef\u001b[0m \u001b[0mstate\u001b[0m\u001b[0;34m(\u001b[0m\u001b[0maddress\u001b[0m\u001b[0;34m)\u001b[0m\u001b[0;34m:\u001b[0m\u001b[0;34m\u001b[0m\u001b[0;34m\u001b[0m\u001b[0m\n\u001b[1;32m      5\u001b[0m     \u001b[0;32mreturn\u001b[0m \u001b[0maddress\u001b[0m\u001b[0;34m.\u001b[0m\u001b[0msplit\u001b[0m\u001b[0;34m(\u001b[0m\u001b[0;34m\",\"\u001b[0m\u001b[0;34m)\u001b[0m\u001b[0;34m[\u001b[0m\u001b[0;36m2\u001b[0m\u001b[0;34m]\u001b[0m\u001b[0;34m.\u001b[0m\u001b[0msplit\u001b[0m\u001b[0;34m(\u001b[0m\u001b[0;34m\" \"\u001b[0m\u001b[0;34m)\u001b[0m\u001b[0;34m[\u001b[0m\u001b[0;36m1\u001b[0m\u001b[0;34m]\u001b[0m\u001b[0;34m\u001b[0m\u001b[0;34m\u001b[0m\u001b[0m\n\u001b[0;32m----> 6\u001b[0;31m \u001b[0msales_data\u001b[0m\u001b[0;34m[\u001b[0m\u001b[0;34m\"city\"\u001b[0m\u001b[0;34m]\u001b[0m \u001b[0;34m=\u001b[0m \u001b[0msales_data\u001b[0m\u001b[0;34m[\u001b[0m\u001b[0;34m\"Purchase Address\"\u001b[0m\u001b[0;34m]\u001b[0m\u001b[0;34m.\u001b[0m\u001b[0mapply\u001b[0m\u001b[0;34m(\u001b[0m\u001b[0;32mlambda\u001b[0m \u001b[0mx\u001b[0m\u001b[0;34m:\u001b[0m \u001b[0mcity\u001b[0m\u001b[0;34m(\u001b[0m\u001b[0mx\u001b[0m\u001b[0;34m)\u001b[0m \u001b[0;34m+\u001b[0m \u001b[0;34m\" \"\u001b[0m \u001b[0;34m+\u001b[0m \u001b[0mget_state\u001b[0m\u001b[0;34m(\u001b[0m\u001b[0mx\u001b[0m\u001b[0;34m)\u001b[0m\u001b[0;34m)\u001b[0m\u001b[0;34m\u001b[0m\u001b[0;34m\u001b[0m\u001b[0m\n\u001b[0m",
      "\u001b[0;31mNameError\u001b[0m: name 'get_state' is not defined"
     ]
    }
   ],
   "source": [
    "def city(address):\n",
    "    return address.split(\",\")[1]\n",
    "\n",
    "def state(address):\n",
    "    return address.split(\",\")[2].split(\" \")[1]\n",
    "sales_data[\"city\"] = sales_data[\"Purchase Address\"].apply(lambda x: city(x) + \" \" + get_state(x))"
   ]
  },
  {
   "cell_type": "code",
   "execution_count": null,
   "id": "eeb0e327",
   "metadata": {},
   "outputs": [],
   "source": [
    "sales_data.head()"
   ]
  },
  {
   "cell_type": "code",
   "execution_count": null,
   "id": "757a67cc",
   "metadata": {},
   "outputs": [],
   "source": [
    "sales_data.columns"
   ]
  },
  {
   "cell_type": "code",
   "execution_count": null,
   "id": "c2979271",
   "metadata": {},
   "outputs": [],
   "source": [
    "needed_col = sales_data.columns.to_list()"
   ]
  },
  {
   "cell_type": "code",
   "execution_count": null,
   "id": "780e2364",
   "metadata": {},
   "outputs": [],
   "source": [
    "needed_col "
   ]
  },
  {
   "cell_type": "code",
   "execution_count": null,
   "id": "ae957106",
   "metadata": {},
   "outputs": [],
   "source": [
    "needed_col = sales_data.columns.to_list()[-2]\n",
    "needed_col"
   ]
  },
  {
   "cell_type": "code",
   "execution_count": null,
   "id": "c6895ae0",
   "metadata": {},
   "outputs": [],
   "source": [
    "sales_by_state = pd.DataFrame(sales_data.groupby(by = \"city\")[needed_col].sum())\n",
    "sales_by_state"
   ]
  },
  {
   "cell_type": "code",
   "execution_count": null,
   "id": "e64e3fdd",
   "metadata": {},
   "outputs": [],
   "source": [
    "sales_by_state.reset_index(inplace = True)"
   ]
  },
  {
   "cell_type": "code",
   "execution_count": null,
   "id": "09f31aec",
   "metadata": {},
   "outputs": [],
   "source": [
    "sales_by_state"
   ]
  },
  {
   "cell_type": "code",
   "execution_count": null,
   "id": "0099ed6a",
   "metadata": {},
   "outputs": [],
   "source": [
    "x_axis1 = sales_by_state[\"city\"]"
   ]
  },
  {
   "cell_type": "code",
   "execution_count": null,
   "id": "3df6d90b",
   "metadata": {},
   "outputs": [],
   "source": [
    "y_axis1 = sales_by_state[\"Total Sales\"]"
   ]
  },
  {
   "cell_type": "code",
   "execution_count": null,
   "id": "eaa458c4",
   "metadata": {},
   "outputs": [],
   "source": [
    "plt.rcParams[\"figure.figsize\"] = [15,13]\n",
    "\n",
    "plt.bar(sales_by_state[\"city\"], sales_by_state[\"Total Sales\"], linewidth = 2, alpha = 0.75, color = \"red\")\n",
    "\n",
    "plt.title(\"state operational performance\")\n",
    "plt.xlabel(\"city\")\n",
    "plt.ylabel(\"Total Sales\")\n",
    "\n",
    "plt.show()"
   ]
  },
  {
   "cell_type": "markdown",
   "id": "f28cc057",
   "metadata": {},
   "source": [
    "#### yearly peak period "
   ]
  },
  {
   "cell_type": "code",
   "execution_count": null,
   "id": "e95308d9",
   "metadata": {},
   "outputs": [],
   "source": [
    "sales_data.head()"
   ]
  },
  {
   "cell_type": "code",
   "execution_count": null,
   "id": "10ed8a28",
   "metadata": {},
   "outputs": [],
   "source": [
    "sales_by_month = pd.DataFrame(sales_data.groupby(by = \"Month\")[needed_col].sum())\n",
    "sales_by_month"
   ]
  },
  {
   "cell_type": "markdown",
   "id": "11881782",
   "metadata": {},
   "source": [
    "#### Arrange the date accordingly"
   ]
  },
  {
   "cell_type": "code",
   "execution_count": null,
   "id": "19b5fd85",
   "metadata": {},
   "outputs": [],
   "source": [
    "sales_by_month.reset_index(inplace = True)"
   ]
  },
  {
   "cell_type": "code",
   "execution_count": null,
   "id": "d9955db3",
   "metadata": {},
   "outputs": [],
   "source": [
    "sales_by_month"
   ]
  },
  {
   "cell_type": "code",
   "execution_count": null,
   "id": "b23f13a2",
   "metadata": {},
   "outputs": [],
   "source": [
    "sales_by_month[\"Month\"] = sales_by_month[\"Month\"].apply(lambda a : dt.strptime(a, \"%b\"))"
   ]
  },
  {
   "cell_type": "code",
   "execution_count": null,
   "id": "e8d125cf",
   "metadata": {},
   "outputs": [],
   "source": [
    "sales_by_month"
   ]
  },
  {
   "cell_type": "code",
   "execution_count": null,
   "id": "ffe29a4b",
   "metadata": {},
   "outputs": [],
   "source": [
    "sales_by_month.sort_values(by = \"Month\", inplace = True)"
   ]
  },
  {
   "cell_type": "code",
   "execution_count": null,
   "id": "aed51fed",
   "metadata": {},
   "outputs": [],
   "source": [
    "sales_by_month"
   ]
  },
  {
   "cell_type": "code",
   "execution_count": null,
   "id": "7718f0a4",
   "metadata": {},
   "outputs": [],
   "source": [
    "sales_by_month[\"Month\"] = sales_by_month[\"Month\"].apply(lambda a : a.strftime(\"%b\"))"
   ]
  },
  {
   "cell_type": "code",
   "execution_count": null,
   "id": "04ddc281",
   "metadata": {},
   "outputs": [],
   "source": [
    "sales_by_month"
   ]
  },
  {
   "cell_type": "code",
   "execution_count": null,
   "id": "5dd34b15",
   "metadata": {},
   "outputs": [],
   "source": [
    "x_axis = sales_by_month[\"Month\"]"
   ]
  },
  {
   "cell_type": "code",
   "execution_count": null,
   "id": "92e3644c",
   "metadata": {},
   "outputs": [],
   "source": [
    "y_axis = sales_by_month[\"Total Sales\"]"
   ]
  },
  {
   "cell_type": "code",
   "execution_count": null,
   "id": "9441eec8",
   "metadata": {},
   "outputs": [],
   "source": [
    "plt.rcParams[\"figure.figsize\"] = [10,9]\n",
    "\n",
    "plt.bar(x_axis, y_axis, linewidth = 2, alpha = 0.75, color = \"purple\")\n",
    "\n",
    "plt.title(\"monthly sales trend\")\n",
    "plt.xlabel(\"month\")\n",
    "plt.ylabel(\"sales\")\n",
    "\n",
    "plt.show()"
   ]
  },
  {
   "cell_type": "code",
   "execution_count": null,
   "id": "72863838",
   "metadata": {},
   "outputs": [],
   "source": [
    "sales_data.head()"
   ]
  },
  {
   "cell_type": "code",
   "execution_count": null,
   "id": "fe0d60c8",
   "metadata": {},
   "outputs": [],
   "source": [
    "sales_data.describe()"
   ]
  },
  {
   "cell_type": "code",
   "execution_count": null,
   "id": "ea8645a7",
   "metadata": {},
   "outputs": [],
   "source": [
    "sales_data[\"Product\"].value_counts()"
   ]
  },
  {
   "cell_type": "code",
   "execution_count": null,
   "id": "a69ad5cc",
   "metadata": {},
   "outputs": [],
   "source": [
    "product_per_city = pd.crosstab(sales_data[\"city\"], sales_data[\"Product\"])"
   ]
  },
  {
   "cell_type": "code",
   "execution_count": null,
   "id": "8e362a95",
   "metadata": {},
   "outputs": [],
   "source": [
    "product_per_city"
   ]
  },
  {
   "cell_type": "code",
   "execution_count": null,
   "id": "1ebb75f9",
   "metadata": {},
   "outputs": [],
   "source": [
    "product_per_city.plot(kind =\"bar\")"
   ]
  },
  {
   "cell_type": "code",
   "execution_count": null,
   "id": "1d73275a",
   "metadata": {},
   "outputs": [],
   "source": [
    "sales_data[\"city\"].value_counts()"
   ]
  },
  {
   "cell_type": "code",
   "execution_count": null,
   "id": "021a1df9",
   "metadata": {},
   "outputs": [],
   "source": [
    "states_grouping = sales_data.groupby([\"city\"])"
   ]
  },
  {
   "cell_type": "code",
   "execution_count": null,
   "id": "40bf2fe5",
   "metadata": {},
   "outputs": [],
   "source": [
    "states_grouping.get_group(\" Portland ME\")"
   ]
  },
  {
   "cell_type": "markdown",
   "id": "c899514f",
   "metadata": {},
   "source": [
    "#### product order from different customers in different states"
   ]
  },
  {
   "cell_type": "code",
   "execution_count": null,
   "id": "24cd5fdc",
   "metadata": {},
   "outputs": [],
   "source": [
    "filtering_1 = sales_data[\"city\"] == \" New York City NY\""
   ]
  },
  {
   "cell_type": "code",
   "execution_count": null,
   "id": "3a6b8c3f",
   "metadata": {},
   "outputs": [],
   "source": [
    "sales_data.loc[filtering_1][\"Product\"].value_counts()"
   ]
  },
  {
   "cell_type": "markdown",
   "id": "2a88f078",
   "metadata": {},
   "source": [
    "### the order id (customers) that have same order id and order from new york, san frisco and los angeles"
   ]
  },
  {
   "cell_type": "code",
   "execution_count": null,
   "id": "88e9cd95",
   "metadata": {},
   "outputs": [],
   "source": [
    "filtering_1 = sales_data[\"city\"] == \" New York City NY\""
   ]
  },
  {
   "cell_type": "code",
   "execution_count": null,
   "id": "b62fb477",
   "metadata": {},
   "outputs": [],
   "source": [
    "sales_data.loc[filtering_1][\"Order ID\"].value_counts()"
   ]
  },
  {
   "cell_type": "markdown",
   "id": "3ec05564",
   "metadata": {},
   "source": [
    "### Probability"
   ]
  },
  {
   "cell_type": "code",
   "execution_count": null,
   "id": "f1dbdad2",
   "metadata": {},
   "outputs": [],
   "source": [
    "total_no_customers = len(sales_data)"
   ]
  },
  {
   "cell_type": "code",
   "execution_count": null,
   "id": "1514b6c6",
   "metadata": {},
   "outputs": [],
   "source": [
    "total_no_customers"
   ]
  },
  {
   "cell_type": "code",
   "execution_count": null,
   "id": "5f298be4",
   "metadata": {},
   "outputs": [],
   "source": [
    "probability_San_Francisco = 44732/total_no_customers"
   ]
  },
  {
   "cell_type": "code",
   "execution_count": null,
   "id": "cbef8f09",
   "metadata": {},
   "outputs": [],
   "source": [
    "probability_San_Francisco"
   ]
  },
  {
   "cell_type": "code",
   "execution_count": null,
   "id": "068d7077",
   "metadata": {},
   "outputs": [],
   "source": [
    "probability_Portland_OR = 10010/total_no_customers"
   ]
  },
  {
   "cell_type": "code",
   "execution_count": null,
   "id": "4d550ad1",
   "metadata": {},
   "outputs": [],
   "source": [
    "probability_Portland_OR"
   ]
  },
  {
   "cell_type": "markdown",
   "id": "84f161f7",
   "metadata": {},
   "source": [
    "#### conditional probability conditional probability. showing the probability that a product iphone sold in the region of new york city\n"
   ]
  },
  {
   "cell_type": "code",
   "execution_count": null,
   "id": "ba2a3580",
   "metadata": {},
   "outputs": [],
   "source": [
    "iphone_newyork = len(sales_data[(sales_data[\"Product\"] == \"iPhone\") & (sales_data[\"city\"] == \" New York City NY\")]) / total_no_customers\n",
    "iphone_newyork\n"
   ]
  },
  {
   "cell_type": "code",
   "execution_count": null,
   "id": "19116583",
   "metadata": {},
   "outputs": [],
   "source": [
    "state_Newyork = len(sales_data[sales_data[\"city\"] == \" New York City NY\"]) / total_no_customers\n",
    "state_Newyork"
   ]
  },
  {
   "cell_type": "code",
   "execution_count": null,
   "id": "f978934c",
   "metadata": {},
   "outputs": [],
   "source": [
    "desired_newyork = iphone_newyork / state_Newyork\n",
    "desired_newyork"
   ]
  },
  {
   "cell_type": "markdown",
   "id": "e228600f",
   "metadata": {},
   "source": [
    "### conditional probability that this product iphone is sold in San francisco"
   ]
  },
  {
   "cell_type": "code",
   "execution_count": null,
   "id": "af1012dd",
   "metadata": {},
   "outputs": [],
   "source": [
    "iphone_sanfrisco = len(sales_data[(sales_data[\"Product\"] == \"iPhone\") & (sales_data[\"city\"] == \" San Francisco CA\")]) / total_no_customers\n",
    "iphone_sanfrisco"
   ]
  },
  {
   "cell_type": "code",
   "execution_count": null,
   "id": "28188c00",
   "metadata": {},
   "outputs": [],
   "source": [
    "state_sanfrisco = len(sales_data[sales_data[\"city\"] == \" San Francisco CA\"]) / total_no_customers\n",
    "state_sanfrisco"
   ]
  },
  {
   "cell_type": "code",
   "execution_count": null,
   "id": "009d9bc5",
   "metadata": {},
   "outputs": [],
   "source": [
    "desired_sanfrisco = iphone_sanfrisco / state_sanfrisco\n",
    "desired_sanfrisco"
   ]
  },
  {
   "cell_type": "markdown",
   "id": "2efcab00",
   "metadata": {},
   "source": [
    "### calc the probabilty that a customer will spend a particular amount\n"
   ]
  },
  {
   "cell_type": "code",
   "execution_count": null,
   "id": "1c1942d0",
   "metadata": {},
   "outputs": [],
   "source": [
    "sales_data.head()"
   ]
  },
  {
   "cell_type": "markdown",
   "id": "74ca35d0",
   "metadata": {},
   "source": [
    "### probability a customer spends 300"
   ]
  },
  {
   "cell_type": "code",
   "execution_count": null,
   "id": "6dc68628",
   "metadata": {},
   "outputs": [],
   "source": [
    "Zscore_300 = (300 - sales_data[\"Price Each\"].mean()) / (sales_data[\"Price Each\"].std())\n",
    "Zscore_300"
   ]
  },
  {
   "cell_type": "markdown",
   "id": "1cb9bddd",
   "metadata": {},
   "source": [
    "### Probability that a customer will spend 600 and 1000"
   ]
  },
  {
   "cell_type": "code",
   "execution_count": null,
   "id": "859f3855",
   "metadata": {},
   "outputs": [],
   "source": [
    "zscore_least_600 = (600 - sales_data[\"Price Each\"].mean()) / (sales_data[\"Price Each\"].std())\n",
    "zscore_least_600"
   ]
  },
  {
   "cell_type": "code",
   "execution_count": null,
   "id": "2273c248",
   "metadata": {},
   "outputs": [],
   "source": [
    "Zscore_1000 = (1000 - sales_data[\"Price Each\"].mean()) / (sales_data[\"Price Each\"].std())\n",
    "Zscore_1000"
   ]
  },
  {
   "cell_type": "code",
   "execution_count": null,
   "id": "d278dff3",
   "metadata": {},
   "outputs": [],
   "source": [
    "the_Zrange_600 = 0.89435"
   ]
  },
  {
   "cell_type": "code",
   "execution_count": null,
   "id": "8d879ceb",
   "metadata": {},
   "outputs": [],
   "source": [
    "the_Zrange_1000 = 0.99286"
   ]
  },
  {
   "cell_type": "code",
   "execution_count": null,
   "id": "7b044503",
   "metadata": {},
   "outputs": [],
   "source": [
    "the_range_both = the_Zrange_1000 - the_Zrange_600\n",
    "the_range_both"
   ]
  },
  {
   "cell_type": "code",
   "execution_count": null,
   "id": "5f16088c",
   "metadata": {},
   "outputs": [],
   "source": [
    "sales_data.head()"
   ]
  },
  {
   "cell_type": "markdown",
   "id": "92ca8dd4",
   "metadata": {},
   "source": [
    "#### calc to know the correlation between two items if any has an adverse effect on the other"
   ]
  },
  {
   "cell_type": "code",
   "execution_count": null,
   "id": "4ba40752",
   "metadata": {},
   "outputs": [],
   "source": [
    "def my_correlation(dfname, feature_one, feature_two):\n",
    "    temp_df = pd.DataFrame()\n",
    "    temp_df[\"top\"] = (dfname[feature_one] - dfname[feature_one].mean()) * (dfname[feature_two] - dfname[feature_two].mean())\n",
    "    temp_df[\"bottom_left\"] = (dfname[feature_one] - dfname[feature_one].mean()) ** 2\n",
    "    temp_df[\"bottom_right\"] = (dfname[feature_two] - dfname[feature_two].mean()) ** 2\n",
    "    bottom_left_sum = temp_df[\"bottom_left\"].sum()\n",
    "    bottom_right_sum = temp_df[\"bottom_right\"].sum()\n",
    "    bottom_all = (bottom_left_sum * bottom_right_sum) ** 0.5\n",
    "    top_all = temp_df[\"top\"].sum()\n",
    "\n",
    "\n",
    "    output = top_all / bottom_all\n",
    "    return output"
   ]
  },
  {
   "cell_type": "code",
   "execution_count": null,
   "id": "603e0f88",
   "metadata": {},
   "outputs": [],
   "source": [
    "my_correlation(sales_data, \"Price Each\", \"Quantity Ordered\")"
   ]
  },
  {
   "cell_type": "markdown",
   "id": "0b76e460",
   "metadata": {},
   "source": [
    "#### checking the anova Testing the hypothesis for the categorical feature of State, if it has a relationship with quantity ordered"
   ]
  },
  {
   "cell_type": "code",
   "execution_count": null,
   "id": "a1143e95",
   "metadata": {},
   "outputs": [],
   "source": [
    "state_one = sales_data[sales_data[\"city\"] == \" Atlanta GA\"]"
   ]
  },
  {
   "cell_type": "code",
   "execution_count": null,
   "id": "c44aad12",
   "metadata": {},
   "outputs": [],
   "source": [
    "state_two = sales_data[sales_data[\"city\"] == \" Seattle WA\"]"
   ]
  },
  {
   "cell_type": "code",
   "execution_count": null,
   "id": "56a800ca",
   "metadata": {},
   "outputs": [],
   "source": [
    "state_three = sales_data[sales_data[\"city\"] == \" Los Angeles CA\"]"
   ]
  },
  {
   "cell_type": "code",
   "execution_count": null,
   "id": "c401a537",
   "metadata": {},
   "outputs": [],
   "source": [
    "state_four = sales_data[sales_data[\"city\"] == \" Boston MA\"]"
   ]
  },
  {
   "cell_type": "code",
   "execution_count": null,
   "id": "873d2119",
   "metadata": {},
   "outputs": [],
   "source": [
    "state_five = sales_data[sales_data[\"city\"] == \" San Francisco CA\"]"
   ]
  },
  {
   "cell_type": "markdown",
   "id": "5ebd40f1",
   "metadata": {},
   "source": [
    "### check the phone result with formular"
   ]
  },
  {
   "cell_type": "code",
   "execution_count": null,
   "id": "f5b7811f",
   "metadata": {},
   "outputs": [],
   "source": [
    "f_oneway(state_one[\"Quantity Ordered\"], state_two[\"Quantity Ordered\"], state_three[\"Quantity Ordered\"], state_four[\"Quantity Ordered\"], state_five[\"Quantity Ordered\"])\n",
    "\n",
    "\n"
   ]
  },
  {
   "cell_type": "markdown",
   "id": "d5adf10b",
   "metadata": {},
   "source": [
    "### checking fot the ttest"
   ]
  },
  {
   "cell_type": "code",
   "execution_count": null,
   "id": "7a3f5478",
   "metadata": {},
   "outputs": [],
   "source": [
    "highest_state = sales_data[sales_data[\"city\"] == \" San Francisco CA\"]"
   ]
  },
  {
   "cell_type": "code",
   "execution_count": null,
   "id": "393d5e76",
   "metadata": {},
   "outputs": [],
   "source": [
    "lowest_state = sales_data[sales_data[\"city\"] == \" Portland ME\"]"
   ]
  },
  {
   "cell_type": "code",
   "execution_count": null,
   "id": "56ff74a8",
   "metadata": {},
   "outputs": [],
   "source": [
    "ttest_ind(highest_state[\"Quantity Ordered\"], lowest_state[\"Quantity Ordered\"])"
   ]
  },
  {
   "cell_type": "markdown",
   "id": "c6980ac1",
   "metadata": {},
   "source": [
    "### chi square when analysing two categorical feature"
   ]
  },
  {
   "cell_type": "code",
   "execution_count": null,
   "id": "9231ad72",
   "metadata": {},
   "outputs": [],
   "source": [
    "pd.crosstab(sales_data[\"Product\"], sales_data[\"city\"])"
   ]
  },
  {
   "cell_type": "code",
   "execution_count": null,
   "id": "d3d6a941",
   "metadata": {},
   "outputs": [],
   "source": [
    "chi2_contingency(pd.crosstab(sales_data[\"Product\"], sales_data[\"city\"]))"
   ]
  },
  {
   "cell_type": "code",
   "execution_count": null,
   "id": "e42b88b4",
   "metadata": {},
   "outputs": [],
   "source": []
  }
 ],
 "metadata": {
  "kernelspec": {
   "display_name": "Python 3 (ipykernel)",
   "language": "python",
   "name": "python3"
  },
  "language_info": {
   "codemirror_mode": {
    "name": "ipython",
    "version": 3
   },
   "file_extension": ".py",
   "mimetype": "text/x-python",
   "name": "python",
   "nbconvert_exporter": "python",
   "pygments_lexer": "ipython3",
   "version": "3.9.6"
  }
 },
 "nbformat": 4,
 "nbformat_minor": 5
}
